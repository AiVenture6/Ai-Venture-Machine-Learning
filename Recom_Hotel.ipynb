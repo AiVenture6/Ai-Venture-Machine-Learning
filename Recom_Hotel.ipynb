{
  "nbformat": 4,
  "nbformat_minor": 0,
  "metadata": {
    "colab": {
      "provenance": []
    },
    "kernelspec": {
      "name": "python3",
      "display_name": "Python 3"
    },
    "language_info": {
      "name": "python"
    }
  },
  "cells": [
    {
      "cell_type": "code",
      "source": [
        "import numpy as np\n",
        "import pandas as pd\n",
        "import pickle\n",
        "import ast\n",
        "from sklearn.preprocessing import MinMaxScaler\n",
        "from sklearn.feature_extraction.text import TfidfVectorizer\n",
        "from sklearn.metrics.pairwise import cosine_similarity"
      ],
      "metadata": {
        "id": "6Y_vxMDDtnV-"
      },
      "execution_count": 1,
      "outputs": []
    },
    {
      "cell_type": "code",
      "source": [
        "hotel = pd.read_csv(\"/content/Hotel DATASET.csv\")\n",
        "booking = pd.read_csv(\"/content/Booking.csv\")"
      ],
      "metadata": {
        "id": "p_cJZKKib_dR"
      },
      "execution_count": 2,
      "outputs": []
    },
    {
      "cell_type": "code",
      "source": [
        "user_id = 1\n",
        "top_n = 10"
      ],
      "metadata": {
        "id": "CpUhTrzxM5Z3"
      },
      "execution_count": 3,
      "outputs": []
    },
    {
      "cell_type": "code",
      "source": [
        "#Load the pickle models at the top to avoid redundant loading\n",
        "with open('scaler_model.pkl', 'rb') as f:\n",
        "    scaler = pickle.load(f)"
      ],
      "metadata": {
        "id": "93uJXgh8F0kg"
      },
      "execution_count": 4,
      "outputs": []
    },
    {
      "cell_type": "code",
      "source": [
        "#NEW USER\n",
        "def get_best_hotel_by_new(user_id, top_n):\n",
        "    hotel_copy = hotel.copy()  # Create a copy of the hotel dataset\n",
        "\n",
        "    # Normalize rating, penjualan_3months, and price using the pre-trained scaler\n",
        "    columns_to_normalize = ['rating', 'penjualan_3months', 'price']\n",
        "    hotel_copy[columns_to_normalize] = scaler.transform(hotel_copy[columns_to_normalize])\n",
        "\n",
        "    # Normalize 'jarak' separately using a new scaler\n",
        "    jarak_scaler = MinMaxScaler()\n",
        "    hotel_copy['jarak'] = jarak_scaler.fit_transform(hotel_copy[['jarak']])\n",
        "\n",
        "    # Invert 'jarak' and 'price' so that lower values are better\n",
        "    hotel_copy['jarak_new'] = 1 - hotel_copy['jarak']\n",
        "    hotel_copy['price_new'] = 1 - hotel_copy['price']\n",
        "\n",
        "    # Calculate the overall score using weighted features\n",
        "    weights = {'rating': 0.25, 'penjualan_3months': 0.25, 'jarak_new': 0.3, 'price_new': 0.2}\n",
        "    hotel_copy['score_new'] = (\n",
        "        hotel_copy['rating'] * weights['rating'] +\n",
        "        hotel_copy['penjualan_3months'] * weights['penjualan_3months'] +\n",
        "        hotel_copy['jarak_new'] * weights['jarak_new'] +\n",
        "        hotel_copy['price_new'] * weights['price_new']\n",
        "    )\n",
        "\n",
        "    # Sort the hotels based on the new score and return the top N recommendations\n",
        "    recommended_hotel = hotel_copy.sort_values(by=['score_new', 'name'], ascending=[False, True]).head(top_n)\n",
        "    recommended_names = recommended_hotel['name'].tolist()  # Extract the recommended hotel names\n",
        "\n",
        "    # Retrieve and return detailed data for the recommended hotels\n",
        "    all_data_for_recommended_hotel = hotel[hotel['name'].isin(recommended_names)]\n",
        "    all_data_for_recommended_hotel = all_data_for_recommended_hotel.set_index('name').loc[recommended_hotel['name']].reset_index()\n",
        "\n",
        "    return all_data_for_recommended_hotel\n",
        "    #return recommended_hotel[['name', 'city', 'score_new', 'jarak_new', 'rating', 'penjualan_3months']]"
      ],
      "metadata": {
        "id": "074AZuPYKCI2"
      },
      "execution_count": 5,
      "outputs": []
    },
    {
      "cell_type": "code",
      "source": [
        "#OLD USER\n",
        "\n",
        "def recommend_by_city_and_similarity(user_id, top_n):\n",
        "    user_booking = booking[booking['user_id'] == user_id].copy()\n",
        "    user_booking = user_booking[user_booking['hotel_id'].notnull()]\n",
        "    user_booking = user_booking.sort_values(by='booking_date', ascending=False)\n",
        "\n",
        "    # Hitung persebaran frekuensi kota favorit berdasarkan booking sebelumnya\n",
        "    city_counts = user_booking.merge(hotel, on='hotel_id')['city'].value_counts(normalize=True)\n",
        "\n",
        "    # Ambil data hotel yang belum dikunjungi\n",
        "    visited_hotel_ids = user_booking['hotel_id'].tolist()\n",
        "    unseen_hotel = hotel[~hotel['hotel_id'].isin(visited_hotel_ids)].copy()\n",
        "\n",
        "    # Normalisasi fitur 'rating', 'penjualan_3months', dan 'price' menggunakan scaler yang disimpan\n",
        "    unseen_hotel[['rating', 'penjualan_3months', 'price']] = scaler.transform(unseen_hotel[['rating', 'penjualan_3months', 'price']])\n",
        "\n",
        "    # Normalisasi 'jarak' secara terpisah\n",
        "    jarak_scaler = MinMaxScaler()\n",
        "    unseen_hotel['jarak'] = jarak_scaler.fit_transform(unseen_hotel[['jarak']])\n",
        "\n",
        "    # Inversi 'jarak' dan 'price'\n",
        "    unseen_hotel['jarak'] = 1 - unseen_hotel['jarak']  # Jarak lebih dekat mendapatkan skor lebih tinggi\n",
        "    unseen_hotel['price'] = 1 - unseen_hotel['price']  # Harga lebih rendah mendapatkan skor lebih tinggi\n",
        "\n",
        "    # Hitung kemiripan berdasarkan cosine similarity\n",
        "    unseen_features = unseen_hotel[['rating', 'penjualan_3months', 'price', 'jarak']].values\n",
        "    seen_hotel = hotel[hotel['hotel_id'].isin(visited_hotel_ids)].copy()\n",
        "    seen_features = seen_hotel[['rating', 'penjualan_3months', 'price', 'jarak']].values\n",
        "    similarity_scores = cosine_similarity(seen_features, unseen_features)\n",
        "    unseen_hotel['similarity_score'] = similarity_scores.mean(axis=0)\n",
        "\n",
        "    # Tambahkan skor kota favorit\n",
        "    unseen_hotel['city_rank'] = unseen_hotel['city'].apply(lambda city: city_counts.get(city, 0))\n",
        "\n",
        "    # Buat rekomendasi per kota sesuai proporsi\n",
        "    recommendations = []\n",
        "    for city, proportion in city_counts.items():\n",
        "        city_hotels = unseen_hotel[unseen_hotel['city'] == city].copy()\n",
        "        city_count = int(round(proportion * top_n))\n",
        "        if city_count > 0:\n",
        "            city_hotels = city_hotels.sort_values(by=['similarity_score', 'rating'], ascending=[False, False])\n",
        "            recommendations.append(city_hotels.head(city_count))\n",
        "\n",
        "    # Gabungkan rekomendasi dari semua kota\n",
        "    recommended_hotel = pd.concat(recommendations).head(top_n)\n",
        "    recommended_names = recommended_hotel['name'].tolist()\n",
        "    all_data_for_recommended_hotel = hotel[hotel['name'].isin(recommended_names)]\n",
        "    all_data_for_recommended_hotel = all_data_for_recommended_hotel.set_index('name').loc[recommended_hotel['name']].reset_index()\n",
        "\n",
        "    return all_data_for_recommended_hotel\n",
        "    #return recommended_hotel[['name', 'city', 'rating', 'price', 'jarak', 'similarity_score']]"
      ],
      "metadata": {
        "id": "ATEw5VFyXocu"
      },
      "execution_count": 6,
      "outputs": []
    },
    {
      "cell_type": "code",
      "source": [
        "#PENGGABUNGAN FUNGSI\n",
        "\n",
        "def combined_recommendation(user_id, top_n):\n",
        "    #Cek apakah pengguna memiliki booking\n",
        "    recent_hotel = booking[booking['user_id'] == user_id].copy()\n",
        "\n",
        "    #Jika tidak ada riwayat, gunakan rekomendasi berdasarkan kategori\n",
        "    if recent_hotel.empty:\n",
        "        print(\"Tidak ada booking untuk user ini. Menggunakan rekomendasi berdasarkan kategori.\")\n",
        "        recommended_hotel = get_best_hotel_by_new(user_id, top_n)\n",
        "    else:\n",
        "        #Jika ada booking, gunakan rekomendasi berdasarkan deskripsi\n",
        "        print(\"Booking ditemukan. Menggunakan rekomendasi berdasarkan kemiripan deskripsi.\")\n",
        "        recommended_hotel = recommend_by_city_and_similarity(user_id, top_n)\n",
        "\n",
        "    return recommended_hotel"
      ],
      "metadata": {
        "id": "CoekyHFKSn1j"
      },
      "execution_count": 8,
      "outputs": []
    },
    {
      "cell_type": "code",
      "source": [
        "# Contoh penggunaan fungsi gabungan\n",
        "recommended_hotel = combined_recommendation(user_id, top_n)\n",
        "print(recommended_hotel)"
      ],
      "metadata": {
        "colab": {
          "base_uri": "https://localhost:8080/"
        },
        "id": "DD-tpTIiUUsB",
        "outputId": "d641a96d-291a-45e7-942e-8a7b73b7c542"
      },
      "execution_count": 9,
      "outputs": [
        {
          "output_type": "stream",
          "name": "stdout",
          "text": [
            "Booking ditemukan. Menggunakan rekomendasi berdasarkan kemiripan deskripsi.\n",
            "                                                name  hotel_id      city  \\\n",
            "0                  OYO 91473 Wisma Husada 1 Semarang       119  Semarang   \n",
            "1                           Sleep and Sleep Semarang       126  Semarang   \n",
            "2                OYO 90758 D Kost In Kandri Semarang       107  Semarang   \n",
            "3               The Backpacker Simpang Lima Semarang       105  Semarang   \n",
            "4                                 SPOT ON 2281 Omajo       108  Semarang   \n",
            "5                                Wisma Purba Danarta       122  Semarang   \n",
            "6                                  InnJoy Guesthouse       129  Semarang   \n",
            "7                       OYO 1808 New Bandungan Indah       135  Semarang   \n",
            "8              OYO 2562 Pondok Tajlibu Syifa Syariah        66   Bandung   \n",
            "9  Lape Resort Syariah at Desa Wisata Pulau Untun...         5   Jakarta   \n",
            "\n",
            "                                                 des     price  rating  \\\n",
            "0  OYO 91473 Wisma Husada 1 menawarkan penginapan...   83334.0      32   \n",
            "1  Sleep and Sleep Semarang menawarkan akomodasi ...   59999.0      42   \n",
            "2  OYO 90758 D Kost In Kandri Semarang menawarkan...   93003.0      41   \n",
            "3  The Backpacker Simpang Lima Semarang adalah pi...   84999.0      45   \n",
            "4  SPOT ON 2281 Omajo menawarkan penginapan yang ...  171975.5      39   \n",
            "5  Wisma Purba Danarta menawarkan penginapan sede...  145000.0      42   \n",
            "6  InnJoy Guesthouse menawarkan suasana menginap ...  150411.0      41   \n",
            "7  Terletak di kawasan Bandungan, hotel ini menaw...  174505.0      41   \n",
            "8  OYO 2562 Pondok Tajlibu Syifa Syariah menawark...   93575.0      35   \n",
            "9  Lape Resort Syariah adalah tempat penginapan y...  381583.5       0   \n",
            "\n",
            "   penjualan  penjualan_3months  jarak  \\\n",
            "0         60                 60    6.7   \n",
            "1       1869               1869    9.5   \n",
            "2        208                208    4.1   \n",
            "3        447                447    7.7   \n",
            "4        155                155    8.4   \n",
            "5        289                289    6.5   \n",
            "6        219                219    2.9   \n",
            "7       1408               1408   19.0   \n",
            "8        442                442  309.0   \n",
            "9          0                  0  425.0   \n",
            "\n",
            "                                              image1  price_min  price_max  \\\n",
            "0  https://s-light.tiket.photos/t/01E25EBZS3W0FY9...      83334      83334   \n",
            "1  https://s-light.tiket.photos/t/01E25EBZS3W0FY9...      54999      64999   \n",
            "2  https://s-light.tiket.photos/t/01E25EBZS3W0FY9...      69631     116375   \n",
            "3  https://s-light.tiket.photos/t/01E25EBZS3W0FY9...      49999     119999   \n",
            "4  https://s-light.tiket.photos/t/01E25EBZS3W0FY9...     142124     201827   \n",
            "5  https://s-light.tiket.photos/t/01E25EBZS3W0FY9...      95000     195000   \n",
            "6  https://s-light.tiket.photos/t/01E25EBZS3W0FY9...     122823     177999   \n",
            "7  https://s-light.tiket.photos/t/01E25EBZS3W0FY9...      69009     280001   \n",
            "8  https://s-light.tiket.photos/t/01E25EBZS3W0FY9...      84270     102880   \n",
            "9  https://s-light.tiket.photos/t/01E25EBZS3W0FY9...     283107     480060   \n",
            "\n",
            "        lat       long  \n",
            "0  -699,299  1,103,799  \n",
            "1  -697,028  1,104,212  \n",
            "2  -708,813  1,103,625  \n",
            "3  -698,843  1,104,247  \n",
            "4  -698,856  1,104,366  \n",
            "5   -69,962  1,104,149  \n",
            "6  -707,153  1,104,114  \n",
            "7  -722,207  1,103,697  \n",
            "8  -689,459  1,075,985  \n",
            "9   -59,775  1,067,072  \n"
          ]
        }
      ]
    }
  ]
}
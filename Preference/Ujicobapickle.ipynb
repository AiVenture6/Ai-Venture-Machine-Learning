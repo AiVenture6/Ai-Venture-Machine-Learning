{
  "nbformat": 4,
  "nbformat_minor": 0,
  "metadata": {
    "colab": {
      "provenance": []
    },
    "kernelspec": {
      "name": "python3",
      "display_name": "Python 3"
    },
    "language_info": {
      "name": "python"
    }
  },
  "cells": [
    {
      "cell_type": "code",
      "execution_count": 1,
      "metadata": {
        "colab": {
          "base_uri": "https://localhost:8080/",
          "height": 73
        },
        "id": "gw1UmUtGkAt4",
        "outputId": "d6de00ca-fc43-42ad-e90c-35cc34fa20d4"
      },
      "outputs": [
        {
          "output_type": "display_data",
          "data": {
            "text/plain": [
              "<IPython.core.display.HTML object>"
            ],
            "text/html": [
              "\n",
              "     <input type=\"file\" id=\"files-10ed31bd-0238-4935-811e-c06bb870ded9\" name=\"files[]\" multiple disabled\n",
              "        style=\"border:none\" />\n",
              "     <output id=\"result-10ed31bd-0238-4935-811e-c06bb870ded9\">\n",
              "      Upload widget is only available when the cell has been executed in the\n",
              "      current browser session. Please rerun this cell to enable.\n",
              "      </output>\n",
              "      <script>// Copyright 2017 Google LLC\n",
              "//\n",
              "// Licensed under the Apache License, Version 2.0 (the \"License\");\n",
              "// you may not use this file except in compliance with the License.\n",
              "// You may obtain a copy of the License at\n",
              "//\n",
              "//      http://www.apache.org/licenses/LICENSE-2.0\n",
              "//\n",
              "// Unless required by applicable law or agreed to in writing, software\n",
              "// distributed under the License is distributed on an \"AS IS\" BASIS,\n",
              "// WITHOUT WARRANTIES OR CONDITIONS OF ANY KIND, either express or implied.\n",
              "// See the License for the specific language governing permissions and\n",
              "// limitations under the License.\n",
              "\n",
              "/**\n",
              " * @fileoverview Helpers for google.colab Python module.\n",
              " */\n",
              "(function(scope) {\n",
              "function span(text, styleAttributes = {}) {\n",
              "  const element = document.createElement('span');\n",
              "  element.textContent = text;\n",
              "  for (const key of Object.keys(styleAttributes)) {\n",
              "    element.style[key] = styleAttributes[key];\n",
              "  }\n",
              "  return element;\n",
              "}\n",
              "\n",
              "// Max number of bytes which will be uploaded at a time.\n",
              "const MAX_PAYLOAD_SIZE = 100 * 1024;\n",
              "\n",
              "function _uploadFiles(inputId, outputId) {\n",
              "  const steps = uploadFilesStep(inputId, outputId);\n",
              "  const outputElement = document.getElementById(outputId);\n",
              "  // Cache steps on the outputElement to make it available for the next call\n",
              "  // to uploadFilesContinue from Python.\n",
              "  outputElement.steps = steps;\n",
              "\n",
              "  return _uploadFilesContinue(outputId);\n",
              "}\n",
              "\n",
              "// This is roughly an async generator (not supported in the browser yet),\n",
              "// where there are multiple asynchronous steps and the Python side is going\n",
              "// to poll for completion of each step.\n",
              "// This uses a Promise to block the python side on completion of each step,\n",
              "// then passes the result of the previous step as the input to the next step.\n",
              "function _uploadFilesContinue(outputId) {\n",
              "  const outputElement = document.getElementById(outputId);\n",
              "  const steps = outputElement.steps;\n",
              "\n",
              "  const next = steps.next(outputElement.lastPromiseValue);\n",
              "  return Promise.resolve(next.value.promise).then((value) => {\n",
              "    // Cache the last promise value to make it available to the next\n",
              "    // step of the generator.\n",
              "    outputElement.lastPromiseValue = value;\n",
              "    return next.value.response;\n",
              "  });\n",
              "}\n",
              "\n",
              "/**\n",
              " * Generator function which is called between each async step of the upload\n",
              " * process.\n",
              " * @param {string} inputId Element ID of the input file picker element.\n",
              " * @param {string} outputId Element ID of the output display.\n",
              " * @return {!Iterable<!Object>} Iterable of next steps.\n",
              " */\n",
              "function* uploadFilesStep(inputId, outputId) {\n",
              "  const inputElement = document.getElementById(inputId);\n",
              "  inputElement.disabled = false;\n",
              "\n",
              "  const outputElement = document.getElementById(outputId);\n",
              "  outputElement.innerHTML = '';\n",
              "\n",
              "  const pickedPromise = new Promise((resolve) => {\n",
              "    inputElement.addEventListener('change', (e) => {\n",
              "      resolve(e.target.files);\n",
              "    });\n",
              "  });\n",
              "\n",
              "  const cancel = document.createElement('button');\n",
              "  inputElement.parentElement.appendChild(cancel);\n",
              "  cancel.textContent = 'Cancel upload';\n",
              "  const cancelPromise = new Promise((resolve) => {\n",
              "    cancel.onclick = () => {\n",
              "      resolve(null);\n",
              "    };\n",
              "  });\n",
              "\n",
              "  // Wait for the user to pick the files.\n",
              "  const files = yield {\n",
              "    promise: Promise.race([pickedPromise, cancelPromise]),\n",
              "    response: {\n",
              "      action: 'starting',\n",
              "    }\n",
              "  };\n",
              "\n",
              "  cancel.remove();\n",
              "\n",
              "  // Disable the input element since further picks are not allowed.\n",
              "  inputElement.disabled = true;\n",
              "\n",
              "  if (!files) {\n",
              "    return {\n",
              "      response: {\n",
              "        action: 'complete',\n",
              "      }\n",
              "    };\n",
              "  }\n",
              "\n",
              "  for (const file of files) {\n",
              "    const li = document.createElement('li');\n",
              "    li.append(span(file.name, {fontWeight: 'bold'}));\n",
              "    li.append(span(\n",
              "        `(${file.type || 'n/a'}) - ${file.size} bytes, ` +\n",
              "        `last modified: ${\n",
              "            file.lastModifiedDate ? file.lastModifiedDate.toLocaleDateString() :\n",
              "                                    'n/a'} - `));\n",
              "    const percent = span('0% done');\n",
              "    li.appendChild(percent);\n",
              "\n",
              "    outputElement.appendChild(li);\n",
              "\n",
              "    const fileDataPromise = new Promise((resolve) => {\n",
              "      const reader = new FileReader();\n",
              "      reader.onload = (e) => {\n",
              "        resolve(e.target.result);\n",
              "      };\n",
              "      reader.readAsArrayBuffer(file);\n",
              "    });\n",
              "    // Wait for the data to be ready.\n",
              "    let fileData = yield {\n",
              "      promise: fileDataPromise,\n",
              "      response: {\n",
              "        action: 'continue',\n",
              "      }\n",
              "    };\n",
              "\n",
              "    // Use a chunked sending to avoid message size limits. See b/62115660.\n",
              "    let position = 0;\n",
              "    do {\n",
              "      const length = Math.min(fileData.byteLength - position, MAX_PAYLOAD_SIZE);\n",
              "      const chunk = new Uint8Array(fileData, position, length);\n",
              "      position += length;\n",
              "\n",
              "      const base64 = btoa(String.fromCharCode.apply(null, chunk));\n",
              "      yield {\n",
              "        response: {\n",
              "          action: 'append',\n",
              "          file: file.name,\n",
              "          data: base64,\n",
              "        },\n",
              "      };\n",
              "\n",
              "      let percentDone = fileData.byteLength === 0 ?\n",
              "          100 :\n",
              "          Math.round((position / fileData.byteLength) * 100);\n",
              "      percent.textContent = `${percentDone}% done`;\n",
              "\n",
              "    } while (position < fileData.byteLength);\n",
              "  }\n",
              "\n",
              "  // All done.\n",
              "  yield {\n",
              "    response: {\n",
              "      action: 'complete',\n",
              "    }\n",
              "  };\n",
              "}\n",
              "\n",
              "scope.google = scope.google || {};\n",
              "scope.google.colab = scope.google.colab || {};\n",
              "scope.google.colab._files = {\n",
              "  _uploadFiles,\n",
              "  _uploadFilesContinue,\n",
              "};\n",
              "})(self);\n",
              "</script> "
            ]
          },
          "metadata": {}
        },
        {
          "output_type": "stream",
          "name": "stdout",
          "text": [
            "Saving svd_model.pkl to svd_model.pkl\n"
          ]
        }
      ],
      "source": [
        "from google.colab import files\n",
        "\n",
        "# Mengunggah file pickle dari komputer lokal ke Colab\n",
        "uploaded = files.upload()"
      ]
    },
    {
      "cell_type": "code",
      "source": [
        "# Instal library Surprise\n",
        "!pip install scikit-surprise"
      ],
      "metadata": {
        "colab": {
          "base_uri": "https://localhost:8080/"
        },
        "id": "lbzBcri8pUCq",
        "outputId": "52db777f-006d-4e18-c31c-1b582a3e76e2"
      },
      "execution_count": 30,
      "outputs": [
        {
          "output_type": "stream",
          "name": "stdout",
          "text": [
            "Requirement already satisfied: scikit-surprise in /usr/local/lib/python3.10/dist-packages (1.1.4)\n",
            "Requirement already satisfied: joblib>=1.2.0 in /usr/local/lib/python3.10/dist-packages (from scikit-surprise) (1.4.2)\n",
            "Requirement already satisfied: numpy>=1.19.5 in /usr/local/lib/python3.10/dist-packages (from scikit-surprise) (1.26.4)\n",
            "Requirement already satisfied: scipy>=1.6.0 in /usr/local/lib/python3.10/dist-packages (from scikit-surprise) (1.13.1)\n"
          ]
        }
      ]
    },
    {
      "cell_type": "code",
      "source": [
        "\n",
        "\n",
        "# Import library yang dibutuhkan\n",
        "import pickle\n",
        "import pandas as pd\n",
        "from sklearn.metrics.pairwise import cosine_similarity\n",
        "from surprise import SVD, Dataset, Reader\n",
        "from surprise.model_selection import train_test_split\n",
        "from surprise.accuracy import rmse\n",
        "from datetime import datetime\n",
        "\n",
        "# Memuat model SVD yang sudah disimpan sebelumnya\n",
        "with open('svd_model.pkl', 'rb') as f:\n",
        "    model = pickle.load(f)\n",
        "\n",
        "# === Load Dataset ===\n",
        "df_tourism_with_id = pd.read_csv('/content/drive/MyDrive/archive (1)/tourism_with_id.csv')  # Path ke tourism_with_id\n",
        "df_tourism_rating = pd.read_csv('/content/drive/MyDrive/archive (1)/tourism_rating.csv')    # Path ke tourism_rating\n",
        "\n",
        "# Gabungkan dataset untuk akses lebih mudah\n",
        "df_merged = pd.merge(df_tourism_rating, df_tourism_with_id, on='Place_Id', how='inner')\n",
        "\n",
        "# Tambahkan simulasi timestamp jika diperlukan\n",
        "df_merged['Timestamp'] = pd.date_range(start='2023-01-01', periods=len(df_merged), freq='D')\n",
        "\n",
        "# Preprocessing data untuk library Surprise\n",
        "reader = Reader(rating_scale=(0, 5))  # Rating berkisar antara 0 hingga 5\n",
        "data = Dataset.load_from_df(df_tourism_rating[['User_Id', 'Place_Id', 'Place_Ratings']], reader)\n",
        "\n",
        "# Membagi dataset menjadi data latih dan uji\n",
        "trainset, testset = train_test_split(data, test_size=0.2)\n",
        "\n",
        "# Menggunakan model yang dimuat untuk pengujian\n",
        "predictions = loaded_model.test(testset)\n",
        "\n",
        "# Evaluasi dengan RMSE\n",
        "rmse_value = rmse(predictions)\n",
        "print(f\"Root Mean Squared Error (RMSE): {rmse_value}\")\n"
      ],
      "metadata": {
        "colab": {
          "base_uri": "https://localhost:8080/"
        },
        "id": "mRvgr8vAkR-m",
        "outputId": "961628ac-8c08-4f33-8846-8adf080e556d"
      },
      "execution_count": 31,
      "outputs": [
        {
          "output_type": "stream",
          "name": "stdout",
          "text": [
            "RMSE: 1.1095\n",
            "Root Mean Squared Error (RMSE): 1.109450706190896\n"
          ]
        }
      ]
    },
    {
      "cell_type": "code",
      "source": [
        "def rekomendasi_pengguna_baru(kategori, lokasi=None, top_n=5):\n",
        "    \"\"\"\n",
        "    Rekomendasi tempat wisata untuk pengguna baru berdasarkan kategori wisata dan lokasi.\n",
        "    \"\"\"\n",
        "    # Filter berdasarkan kategori\n",
        "    filtered_places = df_merged[df_merged['Category'].str.contains(kategori, case=False)]\n",
        "\n",
        "    # Filter berdasarkan lokasi jika disediakan\n",
        "    if lokasi:\n",
        "        filtered_places = filtered_places[filtered_places['City'].str.contains(lokasi, case=False)]\n",
        "\n",
        "    # Urutkan berdasarkan rating rata-rata tempat wisata\n",
        "    rekomendasi = (\n",
        "        filtered_places[['Place_Name', 'Category', 'City', 'Rating']]\n",
        "        .drop_duplicates()\n",
        "        .sort_values(by='Rating', ascending=False)\n",
        "        .head(top_n)\n",
        "    )\n",
        "    return rekomendasi"
      ],
      "metadata": {
        "id": "PMM7IVtclhF1"
      },
      "execution_count": 19,
      "outputs": []
    },
    {
      "cell_type": "code",
      "source": [
        "# === Tambahkan Informasi Tren ===\n",
        "# Hitung jumlah kunjungan untuk setiap tempat\n",
        "trend_visits = df_merged.groupby('Place_Id').size().reset_index(name='Visit_Count')\n",
        "\n",
        "# Hitung rata-rata rating terkini (6 bulan terakhir)\n",
        "cutoff_date = datetime.now() - pd.Timedelta(days=180)\n",
        "recent_ratings = df_merged[df_merged['Timestamp'] > cutoff_date]\n",
        "trend_ratings = recent_ratings.groupby('Place_Id')['Place_Ratings'].mean().reset_index(name='Recent_Avg_Rating')\n",
        "\n",
        "# Gabungkan informasi tren dengan dataset wisata\n",
        "df_tourism_with_id = df_tourism_with_id.merge(trend_visits, on='Place_Id', how='left').merge(trend_ratings, on='Place_Id', how='left')\n",
        "df_tourism_with_id['Visit_Count'] = df_tourism_with_id['Visit_Count'].fillna(0)\n",
        "df_tourism_with_id['Recent_Avg_Rating'] = df_tourism_with_id['Recent_Avg_Rating'].fillna(0)"
      ],
      "metadata": {
        "id": "DdePmErqmRC1"
      },
      "execution_count": 20,
      "outputs": []
    },
    {
      "cell_type": "code",
      "source": [
        "# Memuat model SVD yang sudah disimpan sebelumnya\n",
        "with open('svd_model.pkl', 'rb') as f:\n",
        "    model = pickle.load(f)\n",
        "\n",
        "def rekomendasi_pengguna_lama(user_id, top_n=5):\n",
        "    \"\"\"\n",
        "    Memberikan rekomendasi untuk pengguna lama berdasarkan model SVD yang telah dilatih dan interaksi pengguna lain yang serupa.\n",
        "    \"\"\"\n",
        "    # Ambil semua Place_Id\n",
        "    all_places = df_tourism_rating['Place_Id'].unique()\n",
        "\n",
        "    # Tempat yang sudah pernah dilihat oleh user\n",
        "    seen_places = df_tourism_rating[df_tourism_rating['User_Id'] == user_id]['Place_Id'].unique()\n",
        "\n",
        "    # Prediksi rating untuk tempat yang belum dilihat\n",
        "    rekomendasi = []\n",
        "    for place_id in all_places:\n",
        "        if place_id not in seen_places:\n",
        "            pred = model.predict(user_id, place_id)\n",
        "            rekomendasi.append((place_id, pred.est))\n",
        "\n",
        "    # Urutkan berdasarkan rating prediksi tertinggi\n",
        "    rekomendasi = sorted(rekomendasi, key=lambda x: x[1], reverse=True)[:top_n]\n",
        "\n",
        "    # Ambil detail tempat wisata yang direkomendasikan\n",
        "    rekomendasi_df = pd.DataFrame(rekomendasi, columns=['Place_Id', 'Predicted_Rating'])\n",
        "    rekomendasi_df = rekomendasi_df.merge(df_tourism_with_id[['Place_Id', 'Place_Name', 'Category']], on='Place_Id')\n",
        "\n",
        "    return rekomendasi_df[['Place_Id', 'Place_Name', 'Category', 'Predicted_Rating']]"
      ],
      "metadata": {
        "id": "9Y8kwXpSoXSP"
      },
      "execution_count": 39,
      "outputs": []
    },
    {
      "cell_type": "code",
      "source": [
        "# === Contoh Penggunaan ===\n",
        "# Rekomendasi untuk pengguna baru\n",
        "kategori_wisata = \"Budaya\"\n",
        "lokasi_wisata = \"Yogyakarta\"\n",
        "print(\"Rekomendasi untuk pengguna baru:\")\n",
        "print(rekomendasi_pengguna_baru(kategori_wisata, lokasi=lokasi_wisata))"
      ],
      "metadata": {
        "colab": {
          "base_uri": "https://localhost:8080/"
        },
        "id": "V09PjxEooaAC",
        "outputId": "0a2f814d-37c6-496c-a287-f3d605e6fa89"
      },
      "execution_count": 22,
      "outputs": [
        {
          "output_type": "stream",
          "name": "stdout",
          "text": [
            "Rekomendasi untuk pengguna baru:\n",
            "                        Place_Name Category        City  Rating\n",
            "582   Kauman Pakualaman Yogyakarta   Budaya  Yogyakarta     5.0\n",
            "1323          Museum Ullen Sentalu   Budaya  Yogyakarta     4.7\n",
            "446                Candi Borobudur   Budaya  Yogyakarta     4.7\n",
            "314            Wisata Kraton Jogja   Budaya  Yogyakarta     4.7\n",
            "163                Candi Prambanan   Budaya  Yogyakarta     4.7\n"
          ]
        }
      ]
    },
    {
      "cell_type": "code",
      "source": [
        "# Rekomendasi untuk pengguna baru berdasarkan kategori dan lokasi\n",
        "kategori_wisata = \"Budaya\"\n",
        "lokasi_wisata = \"Semarang\"\n",
        "print(\"Rekomendasi untuk pengguna baru:\")\n",
        "print(rekomendasi_pengguna_baru(kategori_wisata, lokasi=lokasi_wisata))"
      ],
      "metadata": {
        "colab": {
          "base_uri": "https://localhost:8080/"
        },
        "id": "KborIF3Pocdb",
        "outputId": "77a248c6-8d9e-48f6-871e-ceb55cb5def7"
      },
      "execution_count": 23,
      "outputs": [
        {
          "output_type": "stream",
          "name": "stdout",
          "text": [
            "Rekomendasi untuk pengguna baru:\n",
            "                     Place_Name Category      City  Rating\n",
            "94              Pura Giri Natha   Budaya  Semarang     4.7\n",
            "141          Tugu Muda Semarang   Budaya  Semarang     4.7\n",
            "527          Kota Lama Semarang   Budaya  Semarang     4.7\n",
            "977  Kampoeng Djadhoel Semarang   Budaya  Semarang     4.7\n",
            "739                 Lawang Sewu   Budaya  Semarang     4.6\n"
          ]
        }
      ]
    },
    {
      "cell_type": "code",
      "source": [
        "# Rekomendasi untuk pengguna baru berdasarkan kategori dan tanpa lokasi\n",
        "kategori_wisata = \"Budaya\"\n",
        "lokasi_wisata = \"\"\n",
        "print(\"Rekomendasi untuk pengguna baru:\")\n",
        "print(rekomendasi_pengguna_baru(kategori_wisata, lokasi=lokasi_wisata))"
      ],
      "metadata": {
        "colab": {
          "base_uri": "https://localhost:8080/"
        },
        "id": "uuXfw_ttofkz",
        "outputId": "e9f5c2f0-6f1a-4bf0-f04c-cb40685b9304"
      },
      "execution_count": 24,
      "outputs": [
        {
          "output_type": "stream",
          "name": "stdout",
          "text": [
            "Rekomendasi untuk pengguna baru:\n",
            "                          Place_Name Category        City  Rating\n",
            "582     Kauman Pakualaman Yogyakarta   Budaya  Yogyakarta     5.0\n",
            "1232                 Freedom Library   Budaya     Jakarta     5.0\n",
            "324            Galeri Indonesia Kaya   Budaya     Jakarta     4.8\n",
            "155   Museum Sasmita Loka Ahmad Yani   Budaya     Jakarta     4.7\n",
            "314              Wisata Kraton Jogja   Budaya  Yogyakarta     4.7\n"
          ]
        }
      ]
    },
    {
      "cell_type": "code",
      "source": [
        "# Rekomendasi untuk pengguna baru berdasarkan kategori dan tanpa lokasi\n",
        "kategori_wisata = \"Alam\"\n",
        "lokasi_wisata = \"\"\n",
        "print(\"Rekomendasi untuk pengguna baru:\")\n",
        "print(rekomendasi_pengguna_baru(kategori_wisata, lokasi=lokasi_wisata))"
      ],
      "metadata": {
        "colab": {
          "base_uri": "https://localhost:8080/"
        },
        "id": "iMHRN5lCoh75",
        "outputId": "45daa90a-56d3-428b-f09a-783d8b1911c2"
      },
      "execution_count": 25,
      "outputs": [
        {
          "output_type": "stream",
          "name": "stdout",
          "text": [
            "Rekomendasi untuk pengguna baru:\n",
            "                       Place_Name    Category      City  Rating\n",
            "653  Kebun Tanaman Obat Sari Alam  Cagar Alam   Bandung     4.9\n",
            "171                Gunung Lalakon  Cagar Alam   Bandung     4.8\n",
            "732      Gua Maria Kerep Ambarawa  Cagar Alam  Semarang     4.8\n",
            "520                 Curug Aseupan  Cagar Alam   Bandung     4.7\n",
            "58                       Wot Batu  Cagar Alam   Bandung     4.7\n"
          ]
        }
      ]
    },
    {
      "cell_type": "code",
      "source": [
        "# Rekomendasi untuk pengguna baru berdasarkan kategori dan lokasi\n",
        "kategori_wisata = \"Alam\"\n",
        "lokasi_wisata = \"Yogyakarta\"\n",
        "print(\"Rekomendasi untuk pengguna baru:\")\n",
        "print(rekomendasi_pengguna_baru(kategori_wisata, lokasi=lokasi_wisata))"
      ],
      "metadata": {
        "colab": {
          "base_uri": "https://localhost:8080/"
        },
        "id": "y7IuKnuwokVF",
        "outputId": "d1ecbec5-c8c8-409f-eb5e-bebe559db99a"
      },
      "execution_count": 26,
      "outputs": [
        {
          "output_type": "stream",
          "name": "stdout",
          "text": [
            "Rekomendasi untuk pengguna baru:\n",
            "                                Place_Name    Category        City  Rating\n",
            "725            Bukit Paralayang, Watugupit  Cagar Alam  Yogyakarta     4.7\n",
            "337  Puncak Gunung Api Purba - Nglanggeran  Cagar Alam  Yogyakarta     4.7\n",
            "11                      Taman Sungai Mudal  Cagar Alam  Yogyakarta     4.6\n",
            "890                           Goa Jomblang  Cagar Alam  Yogyakarta     4.6\n",
            "135              Seribu Batu Songgo Langit  Cagar Alam  Yogyakarta     4.6\n"
          ]
        }
      ]
    },
    {
      "cell_type": "code",
      "source": [
        "# Rekomendasi untuk pengguna lama\n",
        "user_id = 1\n",
        "print(f\"\\nRekomendasi untuk pengguna lama dengan User_Id={user_id}:\")\n",
        "print(rekomendasi_pengguna_lama(user_id=user_id, top_n=5))"
      ],
      "metadata": {
        "colab": {
          "base_uri": "https://localhost:8080/"
        },
        "id": "hqgbl0S6omhb",
        "outputId": "6a4cc0c5-f5eb-45fb-f1bd-858cfb76e7c9"
      },
      "execution_count": 41,
      "outputs": [
        {
          "output_type": "stream",
          "name": "stdout",
          "text": [
            "\n",
            "Rekomendasi untuk pengguna lama dengan User_Id=1:\n",
            "   Place_Id                Place_Name       Category  Predicted_Rating\n",
            "0        14             Pulau Pelangi         Bahari          4.177344\n",
            "1         1          Monumen Nasional         Budaya          4.057149\n",
            "2       224            Dago Dreampark  Taman Hiburan          4.047253\n",
            "3       332            Rainbow Garden     Cagar Alam          4.019562\n",
            "4       291  Water Park Bandung Indah  Taman Hiburan          4.000103\n"
          ]
        }
      ]
    },
    {
      "cell_type": "code",
      "source": [
        "# Rekomendasi untuk pengguna lama\n",
        "user_id = 2\n",
        "print(f\"\\nRekomendasi untuk pengguna lama dengan User_Id={user_id}:\")\n",
        "print(rekomendasi_pengguna_lama(user_id=user_id, top_n=5))"
      ],
      "metadata": {
        "colab": {
          "base_uri": "https://localhost:8080/"
        },
        "id": "SQ7jJ6NdplQG",
        "outputId": "6f851c89-bf82-48ee-ab7d-706a32a5f858"
      },
      "execution_count": 40,
      "outputs": [
        {
          "output_type": "stream",
          "name": "stdout",
          "text": [
            "\n",
            "Rekomendasi untuk pengguna lama dengan User_Id=2:\n",
            "   Place_Id                             Place_Name       Category  \\\n",
            "0       416                       Keraton Surabaya         Budaya   \n",
            "1       254                 Teras Cikapundung BBWS  Taman Hiburan   \n",
            "2       139  Puncak Gunung Api Purba - Nglanggeran     Cagar Alam   \n",
            "3       134                   Desa Wisata Gamplong  Taman Hiburan   \n",
            "4       401                         Taman Keputran  Taman Hiburan   \n",
            "\n",
            "   Predicted_Rating  \n",
            "0          3.755080  \n",
            "1          3.565000  \n",
            "2          3.548573  \n",
            "3          3.543048  \n",
            "4          3.531473  \n"
          ]
        }
      ]
    },
    {
      "cell_type": "code",
      "source": [
        "# Rekomendasi untuk pengguna lama\n",
        "user_id = 3\n",
        "print(f\"\\nRekomendasi untuk pengguna lama dengan User_Id={user_id}:\")\n",
        "print(rekomendasi_pengguna_lama(user_id=user_id, top_n=5))"
      ],
      "metadata": {
        "id": "db9BPEUgqVWg",
        "outputId": "8cde0e9b-aa46-45af-c6ad-d866c2737318",
        "colab": {
          "base_uri": "https://localhost:8080/"
        }
      },
      "execution_count": 42,
      "outputs": [
        {
          "output_type": "stream",
          "name": "stdout",
          "text": [
            "\n",
            "Rekomendasi untuk pengguna lama dengan User_Id=3:\n",
            "   Place_Id                             Place_Name    Category  \\\n",
            "0       416                       Keraton Surabaya      Budaya   \n",
            "1        52                           Kampung Cina      Budaya   \n",
            "2       139  Puncak Gunung Api Purba - Nglanggeran  Cagar Alam   \n",
            "3         1                       Monumen Nasional      Budaya   \n",
            "4       122                            Watu Goyang      Budaya   \n",
            "\n",
            "   Predicted_Rating  \n",
            "0          4.327892  \n",
            "1          4.278960  \n",
            "2          4.123304  \n",
            "3          4.051696  \n",
            "4          4.041698  \n"
          ]
        }
      ]
    }
  ]
}
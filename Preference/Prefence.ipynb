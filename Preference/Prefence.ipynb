{
 "cells": [
  {
   "cell_type": "markdown",
   "metadata": {},
   "source": [
    "Amalina Shabrina - M283B4KX0449"
   ]
  },
  {
   "cell_type": "code",
   "execution_count": 10,
   "metadata": {
    "colab": {
     "base_uri": "https://localhost:8080/"
    },
    "id": "oRQjy2MVhdp8",
    "outputId": "e62229bd-264a-4b94-e492-fe15575e0b96"
   },
   "outputs": [
    {
     "name": "stdout",
     "output_type": "stream",
     "text": [
      "Collecting scikit-surprise\n",
      "  Downloading scikit_surprise-1.1.4.tar.gz (154 kB)\n",
      "\u001b[?25l     \u001b[90m━━━━━━━━━━━━━━━━━━━━━━━━━━━━━━━━━━━━━━━━\u001b[0m \u001b[32m0.0/154.4 kB\u001b[0m \u001b[31m?\u001b[0m eta \u001b[36m-:--:--\u001b[0m\r\u001b[2K     \u001b[90m━━━━━━━━━━━━━━━━━━━━━━━━━━━━━━━━━━━━━━━━\u001b[0m \u001b[32m154.4/154.4 kB\u001b[0m \u001b[31m4.7 MB/s\u001b[0m eta \u001b[36m0:00:00\u001b[0m\n",
      "\u001b[?25h  Installing build dependencies ... \u001b[?25l\u001b[?25hdone\n",
      "  Getting requirements to build wheel ... \u001b[?25l\u001b[?25hdone\n",
      "  Preparing metadata (pyproject.toml) ... \u001b[?25l\u001b[?25hdone\n",
      "Requirement already satisfied: joblib>=1.2.0 in /usr/local/lib/python3.10/dist-packages (from scikit-surprise) (1.4.2)\n",
      "Requirement already satisfied: numpy>=1.19.5 in /usr/local/lib/python3.10/dist-packages (from scikit-surprise) (1.26.4)\n",
      "Requirement already satisfied: scipy>=1.6.0 in /usr/local/lib/python3.10/dist-packages (from scikit-surprise) (1.13.1)\n",
      "Building wheels for collected packages: scikit-surprise\n",
      "  Building wheel for scikit-surprise (pyproject.toml) ... \u001b[?25l\u001b[?25hdone\n",
      "  Created wheel for scikit-surprise: filename=scikit_surprise-1.1.4-cp310-cp310-linux_x86_64.whl size=2357279 sha256=4e0cf80d28bbaea1e85ded9fa8f326906ada2e45c5a8e2ff78b80b444747ae9b\n",
      "  Stored in directory: /root/.cache/pip/wheels/4b/3f/df/6acbf0a40397d9bf3ff97f582cc22fb9ce66adde75bc71fd54\n",
      "Successfully built scikit-surprise\n",
      "Installing collected packages: scikit-surprise\n",
      "Successfully installed scikit-surprise-1.1.4\n"
     ]
    }
   ],
   "source": [
    "!pip install scikit-surprise # install the package"
   ]
  },
  {
   "cell_type": "code",
   "execution_count": 12,
   "metadata": {
    "id": "mcyehAGDhWkE"
   },
   "outputs": [],
   "source": [
    "# Import library yang dibutuhkan\n",
    "import pandas as pd\n",
    "from sklearn.metrics.pairwise import cosine_similarity\n",
    "from surprise import SVD, Dataset, Reader\n",
    "from surprise.model_selection import train_test_split\n",
    "from surprise.accuracy import rmse\n",
    "from datetime import datetime\n",
    "\n",
    "# === Load Dataset ===\n",
    "df_tourism_with_id = pd.read_csv('/content/drive/MyDrive/archive (1)/tourism_with_id.csv')  # Path ke tourism_with_id\n",
    "df_tourism_rating = pd.read_csv('/content/drive/MyDrive/archive (1)/tourism_rating.csv')    # Path ke tourism_rating\n",
    "\n",
    "# Gabungkan dataset untuk akses lebih mudah\n",
    "df_merged = pd.merge(df_tourism_rating, df_tourism_with_id, on='Place_Id', how='inner')\n",
    "\n",
    "# Tambahkan simulasi timestamp jika diperlukan\n",
    "df_merged['Timestamp'] = pd.date_range(start='2023-01-01', periods=len(df_merged), freq='D')"
   ]
  },
  {
   "cell_type": "code",
   "execution_count": 14,
   "metadata": {
    "colab": {
     "base_uri": "https://localhost:8080/"
    },
    "id": "3XUO9yZriIKj",
    "outputId": "389134f7-e4b3-4533-ad3c-e6b9786d126d"
   },
   "outputs": [
    {
     "name": "stdout",
     "output_type": "stream",
     "text": [
      "RMSE: 1.4274\n",
      "Root Mean Squared Error (RMSE): 1.427390728892452\n"
     ]
    }
   ],
   "source": [
    "# === Persiapan Model Machine Learning ===\n",
    "# Preprocessing data untuk library Surprise\n",
    "reader = Reader(rating_scale=(0, 5))  # Rating berkisar antara 0 hingga 5\n",
    "data = Dataset.load_from_df(df_merged[['User_Id', 'Place_Id', 'Place_Ratings']], reader)\n",
    "\n",
    "# Membagi dataset menjadi data latih dan uji\n",
    "trainset, testset = train_test_split(data, test_size=0.2)\n",
    "\n",
    "# Melatih model dengan SVD\n",
    "model = SVD()\n",
    "model.fit(trainset)\n",
    "\n",
    "# Evaluasi model\n",
    "predictions = model.test(testset)\n",
    "rmse_value = rmse(predictions)\n",
    "print(f\"Root Mean Squared Error (RMSE): {rmse_value}\")"
   ]
  },
  {
   "cell_type": "code",
   "execution_count": 15,
   "metadata": {
    "id": "lLVYhVDwiTDt"
   },
   "outputs": [],
   "source": [
    "# === Fungsi Rekomendasi Pengguna Baru ===\n",
    "def rekomendasi_pengguna_baru(kategori, lokasi=None, top_n=5):\n",
    "    \"\"\"\n",
    "    Rekomendasi tempat wisata untuk pengguna baru berdasarkan kategori wisata dan lokasi.\n",
    "    \"\"\"\n",
    "    # Filter berdasarkan kategori\n",
    "    filtered_places = df_merged[df_merged['Category'].str.contains(kategori, case=False)]\n",
    "\n",
    "    # Filter berdasarkan lokasi jika disediakan\n",
    "    if lokasi:\n",
    "        filtered_places = filtered_places[filtered_places['City'].str.contains(lokasi, case=False)]\n",
    "\n",
    "    # Urutkan berdasarkan rating rata-rata tempat wisata\n",
    "    rekomendasi = (\n",
    "        filtered_places[['Place_Name', 'Category', 'City', 'Rating']]\n",
    "        .drop_duplicates()\n",
    "        .sort_values(by='Rating', ascending=False)\n",
    "        .head(top_n)\n",
    "    )\n",
    "    return rekomendasi"
   ]
  },
  {
   "cell_type": "code",
   "execution_count": 16,
   "metadata": {
    "id": "su4k--zbiYYx"
   },
   "outputs": [],
   "source": [
    "# === Tambahkan Informasi Tren ===\n",
    "# Hitung jumlah kunjungan untuk setiap tempat\n",
    "trend_visits = df_merged.groupby('Place_Id').size().reset_index(name='Visit_Count')\n",
    "\n",
    "# Hitung rata-rata rating terkini (6 bulan terakhir)\n",
    "cutoff_date = datetime.now() - pd.Timedelta(days=180)\n",
    "recent_ratings = df_merged[df_merged['Timestamp'] > cutoff_date]\n",
    "trend_ratings = recent_ratings.groupby('Place_Id')['Place_Ratings'].mean().reset_index(name='Recent_Avg_Rating')\n",
    "\n",
    "# Gabungkan informasi tren dengan dataset wisata\n",
    "df_tourism_with_id = df_tourism_with_id.merge(trend_visits, on='Place_Id', how='left').merge(trend_ratings, on='Place_Id', how='left')\n",
    "df_tourism_with_id['Visit_Count'] = df_tourism_with_id['Visit_Count'].fillna(0)\n",
    "df_tourism_with_id['Recent_Avg_Rating'] = df_tourism_with_id['Recent_Avg_Rating'].fillna(0)\n",
    "\n"
   ]
  },
  {
   "cell_type": "code",
   "execution_count": 17,
   "metadata": {
    "id": "I_L2cwz1ieJ4"
   },
   "outputs": [],
   "source": [
    "# === Fungsi Rekomendasi Pengguna Lama ===\n",
    "def rekomendasi_pengguna_lama(user_id, top_n=5):\n",
    "    \"\"\"\n",
    "    Memberikan rekomendasi untuk pengguna tertentu berdasarkan model SVD dan tren.\n",
    "    \"\"\"\n",
    "    # Tempat yang sudah pernah dilihat oleh user\n",
    "    seen_places = df_merged[df_merged['User_Id'] == user_id]['Place_Id'].unique()\n",
    "\n",
    "    # Prediksi rating untuk tempat yang belum dilihat\n",
    "    all_places = df_merged['Place_Id'].unique()\n",
    "    rekomendasi = []\n",
    "    for place_id in all_places:\n",
    "        if place_id not in seen_places:\n",
    "            pred = model.predict(user_id, place_id)\n",
    "            rekomendasi.append((place_id, pred.est))\n",
    "\n",
    "    # Buat DataFrame rekomendasi\n",
    "    rekomendasi_df = pd.DataFrame(rekomendasi, columns=['Place_Id', 'Predicted_Rating'])\n",
    "\n",
    "    # Gabungkan dengan data wisata dan informasi tren\n",
    "    rekomendasi_df = rekomendasi_df.merge(df_tourism_with_id, on='Place_Id')\n",
    "\n",
    "    # Tambahkan skor tren (kombinasi jumlah kunjungan dan rata-rata rating terkini)\n",
    "    rekomendasi_df['Trend_Score'] = (\n",
    "        rekomendasi_df['Visit_Count'] * 0.6 +  # Bobot jumlah kunjungan\n",
    "        rekomendasi_df['Recent_Avg_Rating'] * 0.4  # Bobot rata-rata rating terkini\n",
    "    )\n",
    "\n",
    "    # Gabungkan skor prediksi dan tren\n",
    "    rekomendasi_df['Final_Score'] = (\n",
    "        rekomendasi_df['Predicted_Rating'] * 0.7 +  # Bobot prediksi rating\n",
    "        rekomendasi_df['Trend_Score'] * 0.3  # Bobot tren\n",
    "    )\n",
    "\n",
    "    # Urutkan berdasarkan skor akhir dan pilih top_n\n",
    "    rekomendasi_df = rekomendasi_df.sort_values(by='Final_Score', ascending=False).head(top_n)\n",
    "    return rekomendasi_df[['Place_Id', 'Place_Name', 'Category', 'Predicted_Rating', 'Trend_Score', 'Final_Score']]\n"
   ]
  },
  {
   "cell_type": "code",
   "execution_count": 18,
   "metadata": {
    "colab": {
     "base_uri": "https://localhost:8080/"
    },
    "id": "TCkuV_eliiHl",
    "outputId": "2a1e8093-5f29-49fb-bd31-70ad188e7022"
   },
   "outputs": [
    {
     "name": "stdout",
     "output_type": "stream",
     "text": [
      "Rekomendasi untuk pengguna baru:\n",
      "                        Place_Name Category        City  Rating\n",
      "582   Kauman Pakualaman Yogyakarta   Budaya  Yogyakarta     5.0\n",
      "1323          Museum Ullen Sentalu   Budaya  Yogyakarta     4.7\n",
      "446                Candi Borobudur   Budaya  Yogyakarta     4.7\n",
      "314            Wisata Kraton Jogja   Budaya  Yogyakarta     4.7\n",
      "163                Candi Prambanan   Budaya  Yogyakarta     4.7\n"
     ]
    }
   ],
   "source": [
    "# === Contoh Penggunaan ===\n",
    "# Rekomendasi untuk pengguna baru\n",
    "kategori_wisata = \"Budaya\"\n",
    "lokasi_wisata = \"Yogyakarta\"\n",
    "print(\"Rekomendasi untuk pengguna baru:\")\n",
    "print(rekomendasi_pengguna_baru(kategori_wisata, lokasi=lokasi_wisata))"
   ]
  },
  {
   "cell_type": "code",
   "execution_count": 20,
   "metadata": {
    "colab": {
     "base_uri": "https://localhost:8080/"
    },
    "id": "dAF9_7rOiuIf",
    "outputId": "dfed4945-e7e5-4479-a85e-84cb950bd0aa"
   },
   "outputs": [
    {
     "name": "stdout",
     "output_type": "stream",
     "text": [
      "Rekomendasi untuk pengguna baru:\n",
      "                     Place_Name Category      City  Rating\n",
      "94              Pura Giri Natha   Budaya  Semarang     4.7\n",
      "141          Tugu Muda Semarang   Budaya  Semarang     4.7\n",
      "527          Kota Lama Semarang   Budaya  Semarang     4.7\n",
      "977  Kampoeng Djadhoel Semarang   Budaya  Semarang     4.7\n",
      "739                 Lawang Sewu   Budaya  Semarang     4.6\n"
     ]
    }
   ],
   "source": [
    "# Rekomendasi untuk pengguna baru berdasarkan kategori dan lokasi\n",
    "kategori_wisata = \"Budaya\"\n",
    "lokasi_wisata = \"Semarang\"\n",
    "print(\"Rekomendasi untuk pengguna baru:\")\n",
    "print(rekomendasi_pengguna_baru(kategori_wisata, lokasi=lokasi_wisata))"
   ]
  },
  {
   "cell_type": "code",
   "execution_count": 21,
   "metadata": {
    "colab": {
     "base_uri": "https://localhost:8080/"
    },
    "id": "yKeP9E3bixJM",
    "outputId": "474af860-60c0-4a18-d2f9-54fec6dd68ce"
   },
   "outputs": [
    {
     "name": "stdout",
     "output_type": "stream",
     "text": [
      "Rekomendasi untuk pengguna baru:\n",
      "                          Place_Name Category        City  Rating\n",
      "582     Kauman Pakualaman Yogyakarta   Budaya  Yogyakarta     5.0\n",
      "1232                 Freedom Library   Budaya     Jakarta     5.0\n",
      "324            Galeri Indonesia Kaya   Budaya     Jakarta     4.8\n",
      "155   Museum Sasmita Loka Ahmad Yani   Budaya     Jakarta     4.7\n",
      "314              Wisata Kraton Jogja   Budaya  Yogyakarta     4.7\n"
     ]
    }
   ],
   "source": [
    "# Rekomendasi untuk pengguna baru berdasarkan kategori dan tanpa lokasi\n",
    "kategori_wisata = \"Budaya\"\n",
    "lokasi_wisata = \"\"\n",
    "print(\"Rekomendasi untuk pengguna baru:\")\n",
    "print(rekomendasi_pengguna_baru(kategori_wisata, lokasi=lokasi_wisata))"
   ]
  },
  {
   "cell_type": "code",
   "execution_count": 22,
   "metadata": {
    "colab": {
     "base_uri": "https://localhost:8080/"
    },
    "id": "sotdoyhri0c2",
    "outputId": "7799d92b-ce07-4d06-f518-53c219bc3423"
   },
   "outputs": [
    {
     "name": "stdout",
     "output_type": "stream",
     "text": [
      "Rekomendasi untuk pengguna baru:\n",
      "                       Place_Name    Category      City  Rating\n",
      "653  Kebun Tanaman Obat Sari Alam  Cagar Alam   Bandung     4.9\n",
      "171                Gunung Lalakon  Cagar Alam   Bandung     4.8\n",
      "732      Gua Maria Kerep Ambarawa  Cagar Alam  Semarang     4.8\n",
      "520                 Curug Aseupan  Cagar Alam   Bandung     4.7\n",
      "58                       Wot Batu  Cagar Alam   Bandung     4.7\n"
     ]
    }
   ],
   "source": [
    "# Rekomendasi untuk pengguna baru berdasarkan kategori dan tanpa lokasi\n",
    "kategori_wisata = \"Alam\"\n",
    "lokasi_wisata = \"\"\n",
    "print(\"Rekomendasi untuk pengguna baru:\")\n",
    "print(rekomendasi_pengguna_baru(kategori_wisata, lokasi=lokasi_wisata))"
   ]
  },
  {
   "cell_type": "code",
   "execution_count": 23,
   "metadata": {
    "colab": {
     "base_uri": "https://localhost:8080/"
    },
    "id": "7pJTIKyui3u9",
    "outputId": "4ecc97f2-18d1-4116-ff61-f58a0dbd2e3b"
   },
   "outputs": [
    {
     "name": "stdout",
     "output_type": "stream",
     "text": [
      "Rekomendasi untuk pengguna baru:\n",
      "                                Place_Name    Category        City  Rating\n",
      "725            Bukit Paralayang, Watugupit  Cagar Alam  Yogyakarta     4.7\n",
      "337  Puncak Gunung Api Purba - Nglanggeran  Cagar Alam  Yogyakarta     4.7\n",
      "11                      Taman Sungai Mudal  Cagar Alam  Yogyakarta     4.6\n",
      "890                           Goa Jomblang  Cagar Alam  Yogyakarta     4.6\n",
      "135              Seribu Batu Songgo Langit  Cagar Alam  Yogyakarta     4.6\n"
     ]
    }
   ],
   "source": [
    "# Rekomendasi untuk pengguna baru berdasarkan kategori dan lokasi\n",
    "kategori_wisata = \"Alam\"\n",
    "lokasi_wisata = \"Yogyakarta\"\n",
    "print(\"Rekomendasi untuk pengguna baru:\")\n",
    "print(rekomendasi_pengguna_baru(kategori_wisata, lokasi=lokasi_wisata))"
   ]
  },
  {
   "cell_type": "code",
   "execution_count": 19,
   "metadata": {
    "colab": {
     "base_uri": "https://localhost:8080/"
    },
    "id": "Re3shT2gilDs",
    "outputId": "4f92e41e-8435-4dd1-e606-84ed142098e9"
   },
   "outputs": [
    {
     "name": "stdout",
     "output_type": "stream",
     "text": [
      "\n",
      "Rekomendasi untuk pengguna lama dengan User_Id=1:\n",
      "     Place_Id                                 Place_Name       Category  \\\n",
      "213       177                        Pantai Parangtritis         Bahari   \n",
      "12        437  Gereja Perawan Maria Tak Berdosa Surabaya  Tempat Ibadah   \n",
      "113       298                             Gunung Lalakon     Cagar Alam   \n",
      "241       201                             Pantai Kesirat         Bahari   \n",
      "17        167              Geoforest Watu Payung Turunan     Cagar Alam   \n",
      "\n",
      "     Predicted_Rating  Trend_Score  Final_Score  \n",
      "213          3.516934    24.673684     9.863959  \n",
      "12           3.398702    24.068571     9.599663  \n",
      "113          3.052073    24.488889     9.483118  \n",
      "241          2.964333    23.444444     9.108366  \n",
      "17           3.454174    21.746667     8.941922  \n"
     ]
    }
   ],
   "source": [
    "# Rekomendasi untuk pengguna lama\n",
    "user_id = 1\n",
    "print(f\"\\nRekomendasi untuk pengguna lama dengan User_Id={user_id}:\")\n",
    "print(rekomendasi_pengguna_lama(user_id=user_id, top_n=5))"
   ]
  },
  {
   "cell_type": "code",
   "execution_count": 24,
   "metadata": {
    "colab": {
     "base_uri": "https://localhost:8080/"
    },
    "id": "HE6AzqKli8Zs",
    "outputId": "3efd0d01-5b9d-4be6-d5fd-8babb444a30b"
   },
   "outputs": [
    {
     "name": "stdout",
     "output_type": "stream",
     "text": [
      "\n",
      "Rekomendasi untuk pengguna lama dengan User_Id=2:\n",
      "     Place_Id                   Place_Name            Category  \\\n",
      "215       177          Pantai Parangtritis              Bahari   \n",
      "115       298               Gunung Lalakon          Cagar Alam   \n",
      "243       201               Pantai Kesirat              Bahari   \n",
      "160       416             Keraton Surabaya              Budaya   \n",
      "148       402  Food Junction Grand Pakuwon  Pusat Perbelanjaan   \n",
      "\n",
      "     Predicted_Rating  Trend_Score  Final_Score  \n",
      "215          3.133665    24.673684     9.595671  \n",
      "115          2.622343    24.488889     9.182307  \n",
      "243          2.836140    23.444444     9.018631  \n",
      "160          3.755080    20.186667     8.684556  \n",
      "148          3.063690    21.093333     8.472583  \n"
     ]
    }
   ],
   "source": [
    "# Rekomendasi untuk pengguna lama\n",
    "user_id = 2\n",
    "print(f\"\\nRekomendasi untuk pengguna lama dengan User_Id={user_id}:\")\n",
    "print(rekomendasi_pengguna_lama(user_id=user_id, top_n=5))"
   ]
  },
  {
   "cell_type": "code",
   "execution_count": 25,
   "metadata": {
    "colab": {
     "base_uri": "https://localhost:8080/"
    },
    "id": "_dy-IRMli_pL",
    "outputId": "8055a72a-f19c-4e40-f850-9c489956b344"
   },
   "outputs": [
    {
     "name": "stdout",
     "output_type": "stream",
     "text": [
      "\n",
      "Rekomendasi untuk pengguna lama dengan User_Id=3:\n",
      "     Place_Id                                 Place_Name       Category  \\\n",
      "213       177                        Pantai Parangtritis         Bahari   \n",
      "40        437  Gereja Perawan Maria Tak Berdosa Surabaya  Tempat Ibadah   \n",
      "241       201                             Pantai Kesirat         Bahari   \n",
      "113       298                             Gunung Lalakon     Cagar Alam   \n",
      "11        208                         Taman Sungai Mudal     Cagar Alam   \n",
      "\n",
      "     Predicted_Rating  Trend_Score  Final_Score  \n",
      "213          3.466897    24.673684     9.828933  \n",
      "40           3.561488    24.068571     9.713613  \n",
      "241          3.760389    23.444444     9.665606  \n",
      "113          3.134660    24.488889     9.540929  \n",
      "11           3.535161    22.896970     9.343703  \n"
     ]
    }
   ],
   "source": [
    "# Rekomendasi untuk pengguna lama\n",
    "user_id = 3\n",
    "print(f\"\\nRekomendasi untuk pengguna lama dengan User_Id={user_id}:\")\n",
    "print(rekomendasi_pengguna_lama(user_id=user_id, top_n=5))"
   ]
  },
  {
   "cell_type": "code",
   "execution_count": 26,
   "metadata": {
    "colab": {
     "base_uri": "https://localhost:8080/"
    },
    "id": "iZBrzfCQjX4-",
    "outputId": "a5620645-75ab-4025-ef31-c2601ed46ef8"
   },
   "outputs": [
    {
     "name": "stdout",
     "output_type": "stream",
     "text": [
      "Model disimpan ke dalam file 'svd_model.pkl'\n"
     ]
    }
   ],
   "source": [
    "import pickle\n",
    "\n",
    "# Menyimpan model SVD ke dalam file pickle\n",
    "with open('svd_model.pkl', 'wb') as f:\n",
    "    pickle.dump(model, f)\n",
    "\n",
    "print(\"Model disimpan ke dalam file 'svd_model.pkl'\")\n"
   ]
  },
  {
   "cell_type": "code",
   "execution_count": 27,
   "metadata": {
    "colab": {
     "base_uri": "https://localhost:8080/"
    },
    "id": "j3YMOl4DjaUm",
    "outputId": "8001369c-3970-4e59-a227-419b21427c97"
   },
   "outputs": [
    {
     "name": "stdout",
     "output_type": "stream",
     "text": [
      "Model berhasil dimuat!\n"
     ]
    }
   ],
   "source": [
    "# Memuat model SVD dari file pickle\n",
    "with open('svd_model.pkl', 'rb') as f:\n",
    "    loaded_model = pickle.load(f)\n",
    "\n",
    "print(\"Model berhasil dimuat!\")\n"
   ]
  },
  {
   "cell_type": "code",
   "execution_count": 28,
   "metadata": {
    "colab": {
     "base_uri": "https://localhost:8080/",
     "height": 17
    },
    "id": "gqPI5AHKjhHr",
    "outputId": "7d264730-6919-41a1-9e13-17b6e0a7ba89"
   },
   "outputs": [
    {
     "data": {
      "application/javascript": "\n    async function download(id, filename, size) {\n      if (!google.colab.kernel.accessAllowed) {\n        return;\n      }\n      const div = document.createElement('div');\n      const label = document.createElement('label');\n      label.textContent = `Downloading \"${filename}\": `;\n      div.appendChild(label);\n      const progress = document.createElement('progress');\n      progress.max = size;\n      div.appendChild(progress);\n      document.body.appendChild(div);\n\n      const buffers = [];\n      let downloaded = 0;\n\n      const channel = await google.colab.kernel.comms.open(id);\n      // Send a message to notify the kernel that we're ready.\n      channel.send({})\n\n      for await (const message of channel.messages) {\n        // Send a message to notify the kernel that we're ready.\n        channel.send({})\n        if (message.buffers) {\n          for (const buffer of message.buffers) {\n            buffers.push(buffer);\n            downloaded += buffer.byteLength;\n            progress.value = downloaded;\n          }\n        }\n      }\n      const blob = new Blob(buffers, {type: 'application/binary'});\n      const a = document.createElement('a');\n      a.href = window.URL.createObjectURL(blob);\n      a.download = filename;\n      div.appendChild(a);\n      a.click();\n      div.remove();\n    }\n  ",
      "text/plain": [
       "<IPython.core.display.Javascript object>"
      ]
     },
     "metadata": {},
     "output_type": "display_data"
    },
    {
     "data": {
      "application/javascript": "download(\"download_92e4f618-63e6-48eb-9381-38f6cf0b5f8e\", \"svd_model.pkl\", 816898)",
      "text/plain": [
       "<IPython.core.display.Javascript object>"
      ]
     },
     "metadata": {},
     "output_type": "display_data"
    }
   ],
   "source": [
    "from google.colab import files\n",
    "\n",
    "# Menyimpan model ke dalam file pickle\n",
    "with open('svd_model.pkl', 'wb') as f:\n",
    "    pickle.dump(model, f)\n",
    "\n",
    "# Mengunduh file pickle ke komputer lokal\n",
    "files.download('svd_model.pkl')\n"
   ]
  }
 ],
 "metadata": {
  "colab": {
   "provenance": []
  },
  "kernelspec": {
   "display_name": "Python 3",
   "name": "python3"
  },
  "language_info": {
   "name": "python"
  }
 },
 "nbformat": 4,
 "nbformat_minor": 0
}

{
  "nbformat": 4,
  "nbformat_minor": 0,
  "metadata": {
    "colab": {
      "provenance": []
    },
    "kernelspec": {
      "name": "python3",
      "display_name": "Python 3"
    },
    "language_info": {
      "name": "python"
    }
  },
  "cells": [
    {
      "cell_type": "code",
      "source": [
        "import numpy as np\n",
        "import pandas as pd\n",
        "import pickle\n",
        "import ast\n",
        "from sklearn.preprocessing import MinMaxScaler\n",
        "from sklearn.feature_extraction.text import TfidfVectorizer\n",
        "from sklearn.metrics.pairwise import cosine_similarity"
      ],
      "metadata": {
        "id": "6Y_vxMDDtnV-"
      },
      "execution_count": 25,
      "outputs": []
    },
    {
      "cell_type": "code",
      "source": [
        "resto = pd.read_csv(\"/content/Resto DATASET.csv\")\n",
        "booking = pd.read_csv(\"/content/Booking.csv\")"
      ],
      "metadata": {
        "id": "p_cJZKKib_dR"
      },
      "execution_count": 26,
      "outputs": []
    },
    {
      "cell_type": "code",
      "source": [
        "user_id = 1\n",
        "top_n = 10"
      ],
      "metadata": {
        "id": "CpUhTrzxM5Z3"
      },
      "execution_count": 27,
      "outputs": []
    },
    {
      "cell_type": "code",
      "source": [
        "#Load the pickle models at the top to avoid redundant loading\n",
        "with open('scaler_model.pkl', 'rb') as f:\n",
        "    scaler = pickle.load(f)"
      ],
      "metadata": {
        "id": "93uJXgh8F0kg"
      },
      "execution_count": 28,
      "outputs": []
    },
    {
      "cell_type": "code",
      "source": [
        "#NEW USER\n",
        "def get_best_resto_by_new(user_id, top_n):\n",
        "    resto_copy = resto.copy()  # Create a copy of the resto dataset\n",
        "\n",
        "    # Normalize rating, penjualan_3months, and price using the pre-trained scaler\n",
        "    columns_to_normalize = ['rating', 'penjualan_3months', 'price']\n",
        "    resto_copy[columns_to_normalize] = scaler.transform(resto_copy[columns_to_normalize])\n",
        "\n",
        "    # Normalize 'jarak' separately using a new scaler\n",
        "    jarak_scaler = MinMaxScaler()\n",
        "    resto_copy['jarak'] = jarak_scaler.fit_transform(resto_copy[['jarak']])\n",
        "\n",
        "    # Invert 'jarak' and 'price' so that lower values are better\n",
        "    resto_copy['jarak_new'] = 1 - resto_copy['jarak']\n",
        "    resto_copy['price_new'] = 1 - resto_copy['price']\n",
        "\n",
        "    # Calculate the overall score using weighted features\n",
        "    weights = {'rating': 0.2, 'penjualan_3months': 0.1, 'price_new':0.1, 'jarak_new': 0.6}\n",
        "    resto_copy['score_new'] = (\n",
        "        resto_copy['rating'] * weights['rating'] +\n",
        "        resto_copy['penjualan_3months'] * weights['penjualan_3months'] +\n",
        "        resto_copy['jarak_new'] * weights['jarak_new'] +\n",
        "        resto_copy['price_new'] * weights['price_new']\n",
        "    )\n",
        "\n",
        "    # Sort the restos based on the new score and return the top N recommendations\n",
        "    recommended_resto = resto_copy.sort_values(by=['score_new', 'name'], ascending=[False, True]).head(top_n)\n",
        "    recommended_names = recommended_resto['name'].tolist()  # Extract the recommended resto names\n",
        "\n",
        "    # Retrieve and return detailed data for the recommended restos\n",
        "    all_data_for_recommended_resto = resto[resto['name'].isin(recommended_names)]\n",
        "    all_data_for_recommended_resto = all_data_for_recommended_resto.set_index('name').loc[recommended_resto['name']].reset_index()\n",
        "\n",
        "    return all_data_for_recommended_resto\n",
        "    #return recommended_resto[['name', 'city', 'score_new', 'jarak_new', 'rating', 'penjualan_3months']]"
      ],
      "metadata": {
        "id": "074AZuPYKCI2"
      },
      "execution_count": 29,
      "outputs": []
    },
    {
      "cell_type": "code",
      "source": [
        "#OLD USER\n",
        "\n",
        "def recommend_by_city_and_similarity(user_id, top_n):\n",
        "    user_booking = booking[booking['user_id'] == user_id].copy()\n",
        "    user_booking = user_booking[user_booking['resto_id'].notnull()]\n",
        "    user_booking = user_booking.sort_values(by='booking_date', ascending=False)\n",
        "\n",
        "    # Hitung persebaran frekuensi kota favorit berdasarkan resto yang dikunjungi\n",
        "    city_counts = user_booking.merge(resto, on='resto_id')['city'].value_counts(normalize=True)\n",
        "\n",
        "    # Ambil data resto yang belum dikunjungi\n",
        "    visited_resto_ids = user_booking['resto_id'].tolist()\n",
        "    unseen_resto = resto[~resto['resto_id'].isin(visited_resto_ids)].copy()\n",
        "\n",
        "    # Load scaler untuk fitur rating, penjualan_3months, price\n",
        "    with open('scaler_model.pkl', 'rb') as file:\n",
        "        scaler = pickle.load(file)\n",
        "\n",
        "    # Normalisasi fitur yang ada menggunakan scaler yang sudah disimpan\n",
        "    unseen_resto[['rating', 'penjualan_3months', 'price']] = scaler.transform(unseen_resto[['rating', 'penjualan_3months', 'price']])\n",
        "\n",
        "    # Normalisasi 'jarak' secara terpisah\n",
        "    jarak_scaler = MinMaxScaler()\n",
        "    unseen_resto['jarak'] = jarak_scaler.fit_transform(unseen_resto[['jarak']])\n",
        "\n",
        "    # Inversi 'jarak' dan 'price' untuk memastikan yang lebih dekat dan lebih murah lebih diprioritaskan\n",
        "    unseen_resto['jarak'] = 1 - unseen_resto['jarak']  # Jarak lebih dekat mendapat skor lebih tinggi\n",
        "    unseen_resto['price'] = 1 - unseen_resto['price']  # Harga lebih rendah mendapat skor lebih tinggi\n",
        "\n",
        "    # Hitung kemiripan berdasarkan cosine similarity untuk fitur numerik\n",
        "    feature_columns = ['rating', 'penjualan_3months', 'price']\n",
        "    unseen_features = unseen_resto[feature_columns].values\n",
        "    seen_resto = resto[resto['resto_id'].isin(visited_resto_ids)].copy()\n",
        "    seen_resto[feature_columns] = scaler.transform(seen_resto[feature_columns])  # Transformasi fitur yang terlihat\n",
        "    seen_features = seen_resto[feature_columns].values\n",
        "    similarity_scores = cosine_similarity(seen_features, unseen_features)\n",
        "    unseen_resto['similarity_score'] = similarity_scores.mean(axis=0)\n",
        "\n",
        "    # Tambahkan skor kota favorit\n",
        "    unseen_resto['city_rank'] = unseen_resto['city'].apply(lambda city: city_counts.get(city, 0))\n",
        "\n",
        "    # Tambahkan similarity score berdasarkan deskripsi resto\n",
        "    vectorizer = TfidfVectorizer(stop_words='english')\n",
        "    tfidf_matrix_unseen = vectorizer.fit_transform(unseen_resto['des'].fillna(''))  # TF-IDF untuk resto yang belum dikunjungi\n",
        "    with open('tfidf_vectorizer.pkl', 'wb') as file:\n",
        "        pickle.dump(vectorizer, file)\n",
        "\n",
        "    tfidf_matrix_seen = vectorizer.transform(seen_resto['des'].fillna(''))  # TF-IDF untuk resto yang sudah dikunjungi\n",
        "\n",
        "    # Hitung cosine similarity untuk deskripsi\n",
        "    description_similarity = cosine_similarity(tfidf_matrix_seen, tfidf_matrix_unseen)\n",
        "    unseen_resto['description_similarity'] = description_similarity.mean(axis=0)\n",
        "\n",
        "    # Gabungkan similarity score berdasarkan fitur numerik dan deskripsi\n",
        "    unseen_resto['final_similarity_score'] = (unseen_resto['similarity_score'] + unseen_resto['description_similarity']) / 2\n",
        "\n",
        "    # Buat rekomendasi per kota sesuai proporsi\n",
        "    recommendations = []\n",
        "    for city, proportion in city_counts.items():\n",
        "        city_restos = unseen_resto[unseen_resto['city'] == city].copy()\n",
        "        city_count = int(round(proportion * top_n))\n",
        "        if city_count > 0:\n",
        "            city_restos = city_restos.sort_values(by=['final_similarity_score', 'rating'], ascending=[False, False])\n",
        "            recommendations.append(city_restos.head(city_count))\n",
        "\n",
        "    # Gabungkan rekomendasi dari semua kota\n",
        "    recommended_resto = pd.concat(recommendations).head(top_n)\n",
        "    recommended_names = recommended_resto['name'].tolist()  # Ambil nama-nama resto dari recommended_resto\n",
        "    all_data_for_recommended_resto = resto[resto['name'].isin(recommended_names)]\n",
        "    all_data_for_recommended_resto = all_data_for_recommended_resto.set_index('name').loc[recommended_resto['name']].reset_index()\n",
        "\n",
        "    return all_data_for_recommended_resto"
      ],
      "metadata": {
        "id": "s3GHHEDMR5Bx"
      },
      "execution_count": 30,
      "outputs": []
    },
    {
      "cell_type": "code",
      "source": [
        "#PENGGABUNGAN FUNGSI\n",
        "\n",
        "def combined_recommendation(user_id, top_n):\n",
        "    #Cek apakah pengguna memiliki booking\n",
        "    recent_resto = booking[booking['user_id'] == user_id].copy()\n",
        "    #recent_resto = get_recent_resto(booking, user_id, top_n)\n",
        "\n",
        "    #Jika tidak ada riwayat, gunakan rekomendasi berdasarkan kategori\n",
        "    if recent_resto.empty:\n",
        "        #print(\"Tidak ada booking untuk user ini. Menggunakan rekomendasi berdasarkan kategori.\")\n",
        "        recommended_resto = get_best_resto_by_new(user_id, top_n)\n",
        "    else:\n",
        "        #Jika ada booking, gunakan rekomendasi berdasarkan deskripsi\n",
        "        #print(\"Booking ditemukan. Menggunakan rekomendasi berdasarkan kemiripan deskripsi.\")\n",
        "        recommended_resto = recommend_by_city_and_similarity(user_id, top_n)\n",
        "\n",
        "    return recommended_resto"
      ],
      "metadata": {
        "id": "CoekyHFKSn1j"
      },
      "execution_count": 31,
      "outputs": []
    },
    {
      "cell_type": "code",
      "source": [
        "# Contoh penggunaan fungsi gabungan\n",
        "recommended_resto = combined_recommendation(user_id, top_n)\n",
        "print(recommended_resto)"
      ],
      "metadata": {
        "colab": {
          "base_uri": "https://localhost:8080/"
        },
        "id": "TJYrs6lkUlWz",
        "outputId": "844ff55a-81dd-4a92-dc98-f36a955545fd"
      },
      "execution_count": 32,
      "outputs": [
        {
          "output_type": "stream",
          "name": "stdout",
          "text": [
            "                    name  resto_id        city  \\\n",
            "0             The Valley        17     Bandung   \n",
            "1       Gijon Steakhouse        19     Bandung   \n",
            "2          Jing Paradise        18     Bandung   \n",
            "3            Hitto Bitto        20     Bandung   \n",
            "4       Plataran Bandung        13     Bandung   \n",
            "5  SKYE Bar & Restaurant        10     Jakarta   \n",
            "6        Bandar Djakarta         2     Jakarta   \n",
            "7          Gudeg Yu Djum        31  Yogyakarta   \n",
            "8   Bu Rudy Dharmahusada        42    Surabaya   \n",
            "9      Restoran Toko Oen        28    Semarang   \n",
            "\n",
            "                                                 des   price  rating  \\\n",
            "0  The Valley menawarkan suasana yang romantis de...  200000     4.5   \n",
            "1  Gijon Steakhouse menawarkan suasana yang kasua...  200000     4.7   \n",
            "2  Jing Paradise memiliki suasana yang mewah dan ...  150000     4.6   \n",
            "3  Hitto Bitto adalah restoran dengan suasana san...  100000     4.7   \n",
            "4  Plataran Bandung menawarkan suasana yang sanga...  100000     4.8   \n",
            "5  SKYE Bar & Restaurant terkenal dengan pemandan...  300000     4.6   \n",
            "6  Bandar Djakarta terkenal dengan suasana yang s...  100000     4.7   \n",
            "7  Gudeg Yu Djum adalah tempat terkenal di Yogyak...   20000     4.6   \n",
            "8  Restoran ini terkenal dengan ayam penyet (ayam...  350000     4.5   \n",
            "9  Toko Oen adalah restoran legendaris di Surabay...   80000     4.3   \n",
            "\n",
            "   penjualan  penjualan_3months  jarak  image1  \n",
            "0       3068               3068  305.0     NaN  \n",
            "1       1231               1231  307.0     NaN  \n",
            "2       1247               1247  310.0     NaN  \n",
            "3       1058               1058  307.0     NaN  \n",
            "4        442                442  307.0     NaN  \n",
            "5       5700               5700  406.0     NaN  \n",
            "6      49267              49267  406.0     NaN  \n",
            "7       5000               5000   83.0     NaN  \n",
            "8      15438              15438  263.0     NaN  \n",
            "9       2000               2000    9.1     NaN  \n"
          ]
        }
      ]
    }
  ]
}